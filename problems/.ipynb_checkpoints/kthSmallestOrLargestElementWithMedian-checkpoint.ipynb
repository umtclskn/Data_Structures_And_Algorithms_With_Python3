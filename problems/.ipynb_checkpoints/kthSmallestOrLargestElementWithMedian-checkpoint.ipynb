{
 "cells": [
  {
   "cell_type": "code",
   "execution_count": 30,
   "metadata": {},
   "outputs": [
    {
     "name": "stdout",
     "output_type": "stream",
     "text": [
      "[3, 4, 5, 7, 12]\n",
      "[19, 26, 65]\n",
      "[3, 4]\n",
      "[5, 7, 12, 19, 65]\n",
      "[26]\n",
      "[5, 7]\n",
      "[12, 19, 26, 65]\n",
      "[12, 19]\n",
      "19\n"
     ]
    }
   ],
   "source": [
    "\"\"\"\n",
    "1. Divide given array into n/5 groups A1, A2, A3, ..., An . \n",
    "   This groups can contain 5 elements except last array may have less than 5\n",
    "2. Sort the Ai groups. Find medians for each groups while sorting and store in M array.  \n",
    "3. Call a recursive function for find the kth Smallest Number inputs: M, n/10\n",
    "   In the recursive function:\n",
    "   3.1\n",
    "\"\"\"\n",
    "\n",
    "def swap(arr, i, j):\n",
    "    temp = arr[i]\n",
    "    arr[i] = arr[j]\n",
    "    arr[j] =temp\n",
    "\n",
    "\n",
    "def findPivot(arr, left, right, median):\n",
    "    index = left;\n",
    "    while index < right:\n",
    "        if arr[index] == median:\n",
    "            break\n",
    "        index = index + 1\n",
    "    swap(arr, index, right);\n",
    "    \n",
    "    index = left\n",
    "    j = left\n",
    "    while j <= right - 1:\n",
    "        if arr[j] > median:\n",
    "            swap(arr, index, j)\n",
    "            index = index + 1\n",
    "        j = j + 1    \n",
    "    swap(arr, index, j)     \n",
    "    return index\n",
    "\n",
    "\n",
    "def findMedian(arr, left, right):        \n",
    "        arr[left:right] = sorted(arr[left:right])\n",
    "        return arr[left +(right -left)//2]\n",
    "\n",
    "def kthSmallestElement(arr, left, right, kth):\n",
    "    if kth > 0 and kth <= right - left + 1:\n",
    "        n = right - left + 1\n",
    "        index = 0\n",
    "        medians = []\n",
    "        while index < n // 5:\n",
    "            medians.append(findMedian(arr, left + index *5, left + index *5 + 5))\n",
    "            index = index + 1   \n",
    "        if n%5 != 0:\n",
    "            medians.append(findMedian(arr,left + index*5, left + index*5 + n%5))\n",
    "            index = index + 1\n",
    "\n",
    "        medianOfMedians = 0\n",
    "        if index == 1:\n",
    "            medianOfMedians = medians[0]\n",
    "        else:\n",
    "            medianOfMedians = kthSmallestElement(arr, 0, index -1 , index // 2)\n",
    "            \n",
    "        pivot = findPivot(arr, left, right, medianOfMedians)\n",
    "        if  pivot - left == kth - 1:\n",
    "            return arr[pivot]\n",
    "        if pivot - left > kth - 1:\n",
    "            return kthSmallestElement(arr, left, pivot - 1, kth)\n",
    "        return kthSmallestElement(arr, pivot + 1, right, kth - pivot + left - 1)\n",
    "\n",
    "a = [12, 3, 5, 7, 4, 19, 26,65]\n",
    "# a = [3, 4, 5, 7, 12, 19, 26, 65] if kth = 3  result  \n",
    "print(kthSmallestElement(a,0, len(a) - 1, 3))\n"
   ]
  },
  {
   "cell_type": "code",
   "execution_count": null,
   "metadata": {},
   "outputs": [],
   "source": []
  }
 ],
 "metadata": {
  "kernelspec": {
   "display_name": "Python 3",
   "language": "python",
   "name": "python3"
  },
  "language_info": {
   "codemirror_mode": {
    "name": "ipython",
    "version": 3
   },
   "file_extension": ".py",
   "mimetype": "text/x-python",
   "name": "python",
   "nbconvert_exporter": "python",
   "pygments_lexer": "ipython3",
   "version": "3.6.5"
  }
 },
 "nbformat": 4,
 "nbformat_minor": 2
}
