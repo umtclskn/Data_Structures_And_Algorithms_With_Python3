{
 "cells": [
  {
   "cell_type": "code",
   "execution_count": 18,
   "metadata": {},
   "outputs": [
    {
     "name": "stdout",
     "output_type": "stream",
     "text": [
      "-9223372036854775808\n",
      "2\n"
     ]
    }
   ],
   "source": [
    "'''\n",
    "        How can a tree be balanced?\n",
    "        \n",
    "'''\n",
    "import sys\n",
    "from binary_search_tree import Node\n",
    "\n",
    "minInt = -sys.maxsize -1\n",
    "\n",
    "def isBalanced(root):\n",
    "    if root == None:\n",
    "        return -1\n",
    "    \n",
    "    left = isBalanced(root.left)\n",
    "    if  left == minInt:\n",
    "        return minInt\n",
    "    \n",
    "    right = isBalanced(root.right)\n",
    "    if right == minInt:\n",
    "        return minInt\n",
    "    \n",
    "    diff = left - right\n",
    "    if abs(diff) > 1:\n",
    "        return minInt\n",
    "    else:\n",
    "        return max(left, right) + 1\n",
    "\n",
    "def printInorderTree(root):\n",
    "            if root == None:\n",
    "                return\n",
    "            printInorderTree(root.left)\n",
    "            print(root.value)\n",
    "            printInorderTree(root.right)\n",
    "            \n",
    "            \n",
    "rootNotBalanced = Node(8)\n",
    "rootNotBalanced.left = Node(6)\n",
    "rootNotBalanced.right = Node(7)\n",
    "rootNotBalanced.left.left = Node(3)\n",
    "rootNotBalanced.left.right = Node(4)\n",
    "rootNotBalanced.left.left.left = Node(1)\n",
    "rootNotBalanced.left.left.left.left = Node(0)\n",
    "print(isBalanced(rootNotBalanced))\n",
    "\n",
    "rootBalanced = Node(6)\n",
    "rootBalanced.left = Node(4)\n",
    "rootBalanced.right = Node(8)\n",
    "rootBalanced.left.left = Node(3)\n",
    "rootBalanced.left.right = Node(5)\n",
    "print(isBalanced(rootBalanced))\n"
   ]
  },
  {
   "cell_type": "code",
   "execution_count": null,
   "metadata": {},
   "outputs": [],
   "source": []
  }
 ],
 "metadata": {
  "kernelspec": {
   "display_name": "Python 3",
   "language": "python",
   "name": "python3"
  },
  "language_info": {
   "codemirror_mode": {
    "name": "ipython",
    "version": 3
   },
   "file_extension": ".py",
   "mimetype": "text/x-python",
   "name": "python",
   "nbconvert_exporter": "python",
   "pygments_lexer": "ipython3",
   "version": "3.6.5"
  }
 },
 "nbformat": 4,
 "nbformat_minor": 2
}
