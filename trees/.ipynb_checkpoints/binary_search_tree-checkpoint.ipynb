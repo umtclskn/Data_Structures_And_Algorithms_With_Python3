{
 "cells": [
  {
   "cell_type": "code",
   "execution_count": 3,
   "metadata": {},
   "outputs": [
    {
     "ename": "AttributeError",
     "evalue": "'BinaryTree' object has no attribute 'printTree'",
     "output_type": "error",
     "traceback": [
      "\u001b[0;31m---------------------------------------------------------------------------\u001b[0m",
      "\u001b[0;31mAttributeError\u001b[0m                            Traceback (most recent call last)",
      "\u001b[0;32m<ipython-input-3-887a73c5be70>\u001b[0m in \u001b[0;36m<module>\u001b[0;34m\u001b[0m\n\u001b[1;32m     56\u001b[0m \u001b[0mt\u001b[0m\u001b[0;34m.\u001b[0m\u001b[0maddNode\u001b[0m\u001b[0;34m(\u001b[0m\u001b[0mroot\u001b[0m\u001b[0;34m,\u001b[0m\u001b[0;34m'H'\u001b[0m\u001b[0;34m)\u001b[0m\u001b[0;34m\u001b[0m\u001b[0m\n\u001b[1;32m     57\u001b[0m \u001b[0;34m\u001b[0m\u001b[0m\n\u001b[0;32m---> 58\u001b[0;31m \u001b[0mt\u001b[0m\u001b[0;34m.\u001b[0m\u001b[0mprintPostorderTree\u001b[0m\u001b[0;34m(\u001b[0m\u001b[0mroot\u001b[0m\u001b[0;34m)\u001b[0m\u001b[0;34m\u001b[0m\u001b[0m\n\u001b[0m",
      "\u001b[0;32m<ipython-input-3-887a73c5be70>\u001b[0m in \u001b[0;36mprintPostorderTree\u001b[0;34m(self, root)\u001b[0m\n\u001b[1;32m     42\u001b[0m             \u001b[0;32mif\u001b[0m \u001b[0mroot\u001b[0m \u001b[0;34m==\u001b[0m \u001b[0;32mNone\u001b[0m\u001b[0;34m:\u001b[0m\u001b[0;34m\u001b[0m\u001b[0m\n\u001b[1;32m     43\u001b[0m                 \u001b[0;32mreturn\u001b[0m\u001b[0;34m\u001b[0m\u001b[0m\n\u001b[0;32m---> 44\u001b[0;31m             \u001b[0mself\u001b[0m\u001b[0;34m.\u001b[0m\u001b[0mprintTree\u001b[0m\u001b[0;34m(\u001b[0m\u001b[0mroot\u001b[0m\u001b[0;34m.\u001b[0m\u001b[0mleft\u001b[0m\u001b[0;34m)\u001b[0m\u001b[0;34m\u001b[0m\u001b[0m\n\u001b[0m\u001b[1;32m     45\u001b[0m             \u001b[0mself\u001b[0m\u001b[0;34m.\u001b[0m\u001b[0mprintTree\u001b[0m\u001b[0;34m(\u001b[0m\u001b[0mroot\u001b[0m\u001b[0;34m.\u001b[0m\u001b[0mright\u001b[0m\u001b[0;34m)\u001b[0m\u001b[0;34m\u001b[0m\u001b[0m\n\u001b[1;32m     46\u001b[0m             \u001b[0mprint\u001b[0m\u001b[0;34m(\u001b[0m\u001b[0mroot\u001b[0m\u001b[0;34m.\u001b[0m\u001b[0mvalue\u001b[0m\u001b[0;34m)\u001b[0m\u001b[0;34m\u001b[0m\u001b[0m\n",
      "\u001b[0;31mAttributeError\u001b[0m: 'BinaryTree' object has no attribute 'printTree'"
     ]
    }
   ],
   "source": [
    "class Node:\n",
    "    def __init__(self, value):\n",
    "        self.value = value\n",
    "        self.left = None\n",
    "        self.right = None  \n",
    "        \n",
    "class BinaryTree:\n",
    "    def __init__(self,root):\n",
    "        self.root = Node(root)\n",
    "    \n",
    "    def addNode(self, root, value):\n",
    "        if root == None:\n",
    "            return\n",
    "        if root.value < value:\n",
    "            if root.left == None:\n",
    "                root.left = Node(value)\n",
    "            else:\n",
    "                root = root.left\n",
    "                self.addNode(root, value)\n",
    "        elif root.value > value:\n",
    "            if root.right == None:\n",
    "                root.right = Node(value)\n",
    "            else:\n",
    "                root = root.right\n",
    "                self.addNode(root, value)\n",
    "    \n",
    "    def printInorderTree(self, root):\n",
    "            if root == None:\n",
    "                return\n",
    "            self.printInorderTree(root.left)\n",
    "            print(root.value)\n",
    "            self.printInorderTree(root.right)\n",
    "            \n",
    "    def printPreorderTree(self, root):\n",
    "            if root == None:\n",
    "                return\n",
    "            print(root.value)\n",
    "            self.printPreorderTree(root.left)      \n",
    "            self.printPreorderTree(root.right)\n",
    "    \n",
    "    def printPostorderTree(self, root):\n",
    "            if root == None:\n",
    "                return\n",
    "            self.printPostorderTree(root.left)          \n",
    "            self.printPostorderTree(root.right)\n",
    "            print(root.value)\n",
    "        \n",
    "t = BinaryTree('D')\n",
    "root = t.root\n",
    "t.addNode(root,'B')\n",
    "t.addNode(root,'A')\n",
    "t.addNode(root,'C')\n",
    "t.addNode(root,'E')\n",
    "t.addNode(root,'G')\n",
    "t.addNode(root,'F')\n",
    "t.addNode(root,'H')\n",
    "\n",
    "t.printPostorderTree(root)\n"
   ]
  },
  {
   "cell_type": "code",
   "execution_count": null,
   "metadata": {},
   "outputs": [],
   "source": []
  }
 ],
 "metadata": {
  "kernelspec": {
   "display_name": "Python 3",
   "language": "python",
   "name": "python3"
  },
  "language_info": {
   "codemirror_mode": {
    "name": "ipython",
    "version": 3
   },
   "file_extension": ".py",
   "mimetype": "text/x-python",
   "name": "python",
   "nbconvert_exporter": "python",
   "pygments_lexer": "ipython3",
   "version": "3.6.5"
  }
 },
 "nbformat": 4,
 "nbformat_minor": 2
}
