{
 "cells": [
  {
   "cell_type": "code",
   "execution_count": 10,
   "metadata": {},
   "outputs": [
    {
     "data": {
      "text/plain": [
       "[[6], [8, 3], [10, 7, 4, 1], [9, 5]]"
      ]
     },
     "execution_count": 10,
     "metadata": {},
     "output_type": "execute_result"
    }
   ],
   "source": [
    "from binary_search_tree import BinaryTree\n",
    "from binary_search_tree import Node\n",
    "\n",
    "def initializeDepthOFTreeLists(root, listOfList, level=0):\n",
    "    if root == None:\n",
    "        return\n",
    "    \n",
    "    if len(listOfList) == level:\n",
    "        lst = []\n",
    "        lst.append(root.value)\n",
    "        listOfList.append(lst)\n",
    "    else:\n",
    "        lst = listOfList[level]\n",
    "        lst.append(root.value)\n",
    "    \n",
    "    initializeDepthOFTreeLists(root.left, listOfList, level+1 )\n",
    "    initializeDepthOFTreeLists(root.right, listOfList, level+1 )\n",
    "    \n",
    "def findHorizontalLinkedListsOfTree(tree):\n",
    "    listOfList = []      \n",
    "    initializeDepthOFTreeLists(tree.root, listOfList, 0)       \n",
    "    return listOfList\n",
    "\n",
    "tree = BinaryTree(6)\n",
    "tree.addNode(tree.root,3)\n",
    "tree.addNode(tree.root,1)\n",
    "tree.addNode(tree.root,4)\n",
    "tree.addNode(tree.root,5)\n",
    "tree.addNode(tree.root,8)\n",
    "tree.addNode(tree.root,10)\n",
    "tree.addNode(tree.root,9)\n",
    "tree.addNode(tree.root,7)\n",
    "\n",
    "lst = findHorizontalLinkedListsOfTree(tree)\n",
    "lst"
   ]
  }
 ],
 "metadata": {
  "kernelspec": {
   "display_name": "Python 3",
   "language": "python",
   "name": "python3"
  },
  "language_info": {
   "codemirror_mode": {
    "name": "ipython",
    "version": 3
   },
   "file_extension": ".py",
   "mimetype": "text/x-python",
   "name": "python",
   "nbconvert_exporter": "python",
   "pygments_lexer": "ipython3",
   "version": "3.6.5"
  }
 },
 "nbformat": 4,
 "nbformat_minor": 2
}
