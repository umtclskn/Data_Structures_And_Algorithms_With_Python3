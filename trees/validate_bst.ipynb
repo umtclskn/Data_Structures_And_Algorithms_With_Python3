{
 "cells": [
  {
   "cell_type": "code",
   "execution_count": 25,
   "metadata": {},
   "outputs": [
    {
     "data": {
      "text/plain": [
       "False"
      ]
     },
     "execution_count": 25,
     "metadata": {},
     "output_type": "execute_result"
    }
   ],
   "source": [
    "from binary_search_tree import Node\n",
    "\n",
    "\n",
    "\n",
    "def isBST(root):\n",
    "        global prev\n",
    "        if not root:\n",
    "            return True\n",
    "        res = isBST(root.left)\n",
    "        if not prev:\n",
    "            prev = root\n",
    "        else:\n",
    "            if root.value <= prev.value:\n",
    "                res = False\n",
    "            prev = root\n",
    "        res = res and isBST(root.right)\n",
    "        return res\n",
    "    \n",
    "root = Node(8)\n",
    "root.left = Node(6)\n",
    "#root.left.right = Node(2)\n",
    "root.left.left = Node(3)\n",
    "root.left.left.right = Node(4)\n",
    "root.right = Node(9)\n",
    "root.right.right = Node(11)\n",
    "root.right.right.left = Node(10)\n",
    "prev = None\n",
    "isBST(root)"
   ]
  },
  {
   "cell_type": "code",
   "execution_count": null,
   "metadata": {},
   "outputs": [],
   "source": []
  }
 ],
 "metadata": {
  "kernelspec": {
   "display_name": "Python 3",
   "language": "python",
   "name": "python3"
  },
  "language_info": {
   "codemirror_mode": {
    "name": "ipython",
    "version": 3
   },
   "file_extension": ".py",
   "mimetype": "text/x-python",
   "name": "python",
   "nbconvert_exporter": "python",
   "pygments_lexer": "ipython3",
   "version": "3.6.5"
  }
 },
 "nbformat": 4,
 "nbformat_minor": 2
}
