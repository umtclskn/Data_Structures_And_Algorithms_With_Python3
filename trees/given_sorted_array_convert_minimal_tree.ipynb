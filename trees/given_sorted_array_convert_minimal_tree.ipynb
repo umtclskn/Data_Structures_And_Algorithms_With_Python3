{
 "cells": [
  {
   "cell_type": "code",
   "execution_count": 1,
   "metadata": {},
   "outputs": [
    {
     "name": "stdout",
     "output_type": "stream",
     "text": [
      "1\n",
      "2\n",
      "3\n",
      "4\n",
      "5\n",
      "6\n",
      "7\n",
      "8\n",
      "9\n"
     ]
    }
   ],
   "source": [
    "'''\n",
    "    Given a sorted array (increasing order),\n",
    "    convert this array to minimal height tree \n",
    "    e.g [1, 2, 3, 4, 5, 6, 7, 8, 9]\n",
    "                    5\n",
    "                 /     \\\n",
    "                3       7\n",
    "               / \\     / \\\n",
    "              2   4   6   8 \n",
    "             /             \\\n",
    "            1               9\n",
    "            \n",
    "'''\n",
    "\n",
    "from binary_search_tree import BinaryTree\n",
    "from binary_search_tree import Node\n",
    "\n",
    "def arrangeTreeNodes(arr):\n",
    "    if not arr:\n",
    "        return \n",
    "    \n",
    "    midd = len(arr) / 2\n",
    "    root = Node(arr[midd])\n",
    "    \n",
    "    root.left = arrangeTreeNodes(arr[:midd])\n",
    "    root.right = arrangeTreeNodes(arr[midd + 1:])\n",
    "    return root\n",
    "\n",
    "def convertMinimalTree(arr):\n",
    "    tree = BinaryTree()\n",
    "    \n",
    "    root = arrangeTreeNodes(arr)\n",
    "    \n",
    "    tree.setRoot(root)\n",
    "    return tree\n",
    "\n",
    "def printInorderTree(root):\n",
    "            if root == None:\n",
    "                return\n",
    "            printInorderTree(root.left)\n",
    "            print(root.value)\n",
    "            printInorderTree(root.right)\n",
    "\n",
    "arr = [1, 2, 3, 4, 5, 6, 7, 8, 9]\n",
    "t = convertMinimalTree(arr)\n",
    "printInorderTree(t.root)"
   ]
  },
  {
   "cell_type": "code",
   "execution_count": null,
   "metadata": {},
   "outputs": [],
   "source": []
  }
 ],
 "metadata": {
  "kernelspec": {
   "display_name": "Python 2",
   "language": "python",
   "name": "python2"
  },
  "language_info": {
   "codemirror_mode": {
    "name": "ipython",
    "version": 2
   },
   "file_extension": ".py",
   "mimetype": "text/x-python",
   "name": "python",
   "nbconvert_exporter": "python",
   "pygments_lexer": "ipython2",
   "version": "2.7.15"
  }
 },
 "nbformat": 4,
 "nbformat_minor": 2
}
