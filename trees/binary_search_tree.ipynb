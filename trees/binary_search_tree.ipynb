{
 "cells": [
  {
   "cell_type": "code",
   "execution_count": 3,
   "metadata": {},
   "outputs": [
    {
     "name": "stdout",
     "output_type": "stream",
     "text": [
      "H\n",
      "F\n",
      "G\n",
      "E\n",
      "C\n",
      "A\n",
      "B\n",
      "D\n"
     ]
    }
   ],
   "source": [
    "class Node:\n",
    "    def __init__(self, value):\n",
    "        self.value = value\n",
    "        self.left = None\n",
    "        self.right = None  \n",
    "        \n",
    "class BinaryTree:\n",
    "    def __init__(self,root):\n",
    "        self.root = Node(root)\n",
    "    \n",
    "    def addNode(self, root, value):\n",
    "        if root == None:\n",
    "            return\n",
    "        if root.value < value:\n",
    "            if root.left == None:\n",
    "                root.left = Node(value)\n",
    "            else:\n",
    "                root = root.left\n",
    "                self.addNode(root, value)\n",
    "        elif root.value > value:\n",
    "            if root.right == None:\n",
    "                root.right = Node(value)\n",
    "            else:\n",
    "                root = root.right\n",
    "                self.addNode(root, value)\n",
    "    \n",
    "    def printInorderTree(self, root):\n",
    "            if root == None:\n",
    "                return\n",
    "            self.printInorderTree(root.left)\n",
    "            print(root.value)\n",
    "            self.printInorderTree(root.right)\n",
    "            \n",
    "    def printPreorderTree(self, root):\n",
    "            if root == None:\n",
    "                return\n",
    "            print(root.value)\n",
    "            self.printPreorderTree(root.left)      \n",
    "            self.printPreorderTree(root.right)\n",
    "    \n",
    "    def printPostorderTree(self, root):\n",
    "            if root == None:\n",
    "                return\n",
    "            self.printPostorderTree(root.left)          \n",
    "            self.printPostorderTree(root.right)\n",
    "            print(root.value)\n",
    "        \n",
    "t = BinaryTree('D')\n",
    "root = t.root\n",
    "t.addNode(root,'B')\n",
    "t.addNode(root,'A')\n",
    "t.addNode(root,'C')\n",
    "t.addNode(root,'E')\n",
    "t.addNode(root,'G')\n",
    "t.addNode(root,'F')\n",
    "t.addNode(root,'H')\n",
    "\n",
    "t.printPostorderTree(root)\n"
   ]
  },
  {
   "cell_type": "code",
   "execution_count": null,
   "metadata": {},
   "outputs": [],
   "source": []
  }
 ],
 "metadata": {
  "kernelspec": {
   "display_name": "Python 3",
   "language": "python",
   "name": "python3"
  },
  "language_info": {
   "codemirror_mode": {
    "name": "ipython",
    "version": 3
   },
   "file_extension": ".py",
   "mimetype": "text/x-python",
   "name": "python",
   "nbconvert_exporter": "python",
   "pygments_lexer": "ipython3",
   "version": "3.6.5"
  }
 },
 "nbformat": 4,
 "nbformat_minor": 2
}
