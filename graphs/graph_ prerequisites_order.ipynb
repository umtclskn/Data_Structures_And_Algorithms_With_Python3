{
 "cells": [
  {
   "cell_type": "code",
   "execution_count": 15,
   "metadata": {},
   "outputs": [
    {
     "name": "stdout",
     "output_type": "stream",
     "text": [
      "[0, 1, 5, 9, 4, 6, 2, 8, 3, 7]\n"
     ]
    }
   ],
   "source": [
    "import collections\n",
    "\n",
    "def findPrerequisiteOrder(vertices, prerequities):\n",
    "    graph = collections.defaultdict(list)\n",
    "    order = []\n",
    "    for edge in prerequities:\n",
    "        graph[edge[0]].append(edge[1])\n",
    "        \n",
    "    visited = [False for i in range(len(vertices))]\n",
    "    \n",
    "    for vertex in range(len(vertices)):\n",
    "        if  not DFS(graph, vertex, visited, order):\n",
    "            return []\n",
    "    return order\n",
    "\n",
    "\n",
    "def DFS(graph, vertex, visited, order):\n",
    "    if visited[vertex] == 1:\n",
    "        return False\n",
    "    if visited[vertex] == 2:\n",
    "        return True\n",
    "    \n",
    "    visited[vertex] = 1        \n",
    "    for index in graph[vertex]:\n",
    "        if not DFS(graph, index, visited, order):\n",
    "            return False\n",
    "    \n",
    "    visited[vertex] = 2\n",
    "    order.append(vertex)\n",
    "    \n",
    "    return True\n",
    "\n",
    "vertices = [0, 1, 2, 3, 4, 5, 6, 7, 8, 9]\n",
    "prerequities = [ [2,4], [2,6], [3,4], [3,5], [3,8], [4,5], [4,9], [7,8], [7,9] ]\n",
    "print(findPrerequisiteOrder(vertices, prerequities))    "
   ]
  },
  {
   "cell_type": "code",
   "execution_count": null,
   "metadata": {},
   "outputs": [],
   "source": []
  }
 ],
 "metadata": {
  "kernelspec": {
   "display_name": "Python 3",
   "language": "python",
   "name": "python3"
  },
  "language_info": {
   "codemirror_mode": {
    "name": "ipython",
    "version": 3
   },
   "file_extension": ".py",
   "mimetype": "text/x-python",
   "name": "python",
   "nbconvert_exporter": "python",
   "pygments_lexer": "ipython3",
   "version": "3.6.5"
  }
 },
 "nbformat": 4,
 "nbformat_minor": 2
}
