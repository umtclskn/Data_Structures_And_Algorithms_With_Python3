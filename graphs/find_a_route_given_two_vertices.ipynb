{
 "cells": [
  {
   "cell_type": "code",
   "execution_count": 15,
   "metadata": {},
   "outputs": [
    {
     "name": "stdout",
     "output_type": "stream",
     "text": [
      "False\n",
      "True\n"
     ]
    }
   ],
   "source": [
    "from graph import Graph\n",
    "gr = Graph()\n",
    "gr.dummyGraph()\n",
    "\n",
    "\n",
    "def findARouteGıvenTwoVertices(graph,start,end):\n",
    "    if start == end:\n",
    "        return True\n",
    "    \n",
    "    queue = []\n",
    "    queue.append(start)\n",
    "    visited = {start: True}\n",
    "    \n",
    "    lst = list(gr.vertices.keys())\n",
    "    \n",
    "    while len(queue) != 0:\n",
    "        start = queue.pop()\n",
    "        \n",
    "        if start == end:\n",
    "            return True\n",
    "        \n",
    "        for index, i in enumerate(gr.vertices[start]):\n",
    "                if i >= 1 and lst[index] not in visited:\n",
    "                    visited[lst[index]] = True\n",
    "                    queue.append(lst[index])\n",
    "    \n",
    "    return False\n",
    "\n",
    "print(findARouteGıvenTwoVertices(gr, 'C', 'B'))\n",
    "print(findARouteGıvenTwoVertices(gr, 'B', 'A'))"
   ]
  },
  {
   "cell_type": "code",
   "execution_count": 12,
   "metadata": {},
   "outputs": [
    {
     "data": {
      "text/plain": [
       "{'A': [0, 1, 1, 0, 0, 0],\n",
       " 'B': [1, 0, 0, 0, 0, 0],\n",
       " 'C': [0, 0, 0, 1, 0, 0],\n",
       " 'D': [0, 0, 0, 0, 1, 0],\n",
       " 'E': [0, 0, 0, 0, 0, 1],\n",
       " 'F': [0, 0, 0, 0, 0, 0]}"
      ]
     },
     "execution_count": 12,
     "metadata": {},
     "output_type": "execute_result"
    }
   ],
   "source": [
    "gr.vertices"
   ]
  }
 ],
 "metadata": {
  "kernelspec": {
   "display_name": "Python 3",
   "language": "python",
   "name": "python3"
  },
  "language_info": {
   "codemirror_mode": {
    "name": "ipython",
    "version": 3
   },
   "file_extension": ".py",
   "mimetype": "text/x-python",
   "name": "python",
   "nbconvert_exporter": "python",
   "pygments_lexer": "ipython3",
   "version": "3.6.5"
  }
 },
 "nbformat": 4,
 "nbformat_minor": 2
}
