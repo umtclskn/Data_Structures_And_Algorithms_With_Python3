{
 "cells": [
  {
   "cell_type": "code",
   "execution_count": 9,
   "metadata": {},
   "outputs": [
    {
     "data": {
      "text/plain": [
       "['A', 'B', 'C', 'D', 'E', 'F']"
      ]
     },
     "execution_count": 9,
     "metadata": {},
     "output_type": "execute_result"
    }
   ],
   "source": [
    "from graph import Graph\n",
    "gr = Graph()\n",
    "gr.dummyGraph()\n",
    "gr.vertices\n",
    "lst = list(gr.vertices.keys())\n",
    "lst[0]"
   ]
  },
  {
   "cell_type": "code",
   "execution_count": 4,
   "metadata": {},
   "outputs": [
    {
     "data": {
      "text/plain": [
       "{1: [0, 1, 1, 0], 2: [0, 0, 0, 1], 3: [0, 0, 0, 0], 4: [0, 0, 0, 0]}"
      ]
     },
     "execution_count": 4,
     "metadata": {},
     "output_type": "execute_result"
    }
   ],
   "source": [
    "graph = Graph()\n",
    "graph.addVertex(1)\n",
    "graph.addVertex(2)\n",
    "graph.addVertex(3)\n",
    "graph.addVertex(4)\n",
    "\n",
    "#Connect 1 to 2\n",
    "graph.addEdge(1,2)\n",
    "\n",
    "#Connect 1 to 3\n",
    "graph.addEdge(1,3)\n",
    "\n",
    "#Connect 2 to 4\n",
    "graph.addEdge(2,4)\n",
    "\n",
    "graph.vertices"
   ]
  },
  {
   "cell_type": "code",
   "execution_count": null,
   "metadata": {},
   "outputs": [],
   "source": []
  }
 ],
 "metadata": {
  "kernelspec": {
   "display_name": "Python 3",
   "language": "python",
   "name": "python3"
  },
  "language_info": {
   "codemirror_mode": {
    "name": "ipython",
    "version": 3
   },
   "file_extension": ".py",
   "mimetype": "text/x-python",
   "name": "python",
   "nbconvert_exporter": "python",
   "pygments_lexer": "ipython3",
   "version": "3.6.5"
  }
 },
 "nbformat": 4,
 "nbformat_minor": 2
}
