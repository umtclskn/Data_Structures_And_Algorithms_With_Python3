{
 "cells": [
  {
   "cell_type": "code",
   "execution_count": 2,
   "metadata": {},
   "outputs": [
    {
     "data": {
      "text/plain": [
       "{'A': [0, 1, 1, 0, 0, 0],\n",
       " 'B': [1, 0, 0, 0, 0, 0],\n",
       " 'C': [0, 0, 0, 1, 0, 0],\n",
       " 'D': [0, 0, 0, 0, 1, 0],\n",
       " 'E': [0, 0, 0, 0, 0, 1],\n",
       " 'F': [0, 0, 0, 0, 0, 0]}"
      ]
     },
     "execution_count": 2,
     "metadata": {},
     "output_type": "execute_result"
    }
   ],
   "source": [
    "from graph import Graph\n",
    "gr = Graph()\n",
    "gr.dummyGraph()\n",
    "gr.vertices"
   ]
  },
  {
   "cell_type": "code",
   "execution_count": 4,
   "metadata": {},
   "outputs": [
    {
     "data": {
      "text/plain": [
       "{1: [0, 1, 1, 0], 2: [0, 0, 0, 1], 3: [0, 0, 0, 0], 4: [0, 0, 0, 0]}"
      ]
     },
     "execution_count": 4,
     "metadata": {},
     "output_type": "execute_result"
    }
   ],
   "source": [
    "graph = Graph()\n",
    "graph.addVertex(1)\n",
    "graph.addVertex(2)\n",
    "graph.addVertex(3)\n",
    "graph.addVertex(4)\n",
    "\n",
    "#Connect 1 to 2\n",
    "graph.addEdge(1,2)\n",
    "\n",
    "#Connect 1 to 3\n",
    "graph.addEdge(1,3)\n",
    "\n",
    "#Connect 2 to 4\n",
    "graph.addEdge(2,4)\n",
    "\n",
    "graph.vertices"
   ]
  },
  {
   "cell_type": "code",
   "execution_count": null,
   "metadata": {},
   "outputs": [],
   "source": []
  }
 ],
 "metadata": {
  "kernelspec": {
   "display_name": "Python 3",
   "language": "python",
   "name": "python3"
  },
  "language_info": {
   "codemirror_mode": {
    "name": "ipython",
    "version": 3
   },
   "file_extension": ".py",
   "mimetype": "text/x-python",
   "name": "python",
   "nbconvert_exporter": "python",
   "pygments_lexer": "ipython3",
   "version": "3.6.5"
  }
 },
 "nbformat": 4,
 "nbformat_minor": 2
}
