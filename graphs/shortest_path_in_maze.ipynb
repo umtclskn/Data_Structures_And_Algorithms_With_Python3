{
 "cells": [
  {
   "cell_type": "code",
   "execution_count": 37,
   "metadata": {},
   "outputs": [],
   "source": [
    "import numpy as np"
   ]
  },
  {
   "cell_type": "code",
   "execution_count": 58,
   "metadata": {},
   "outputs": [],
   "source": [
    "'''\n",
    "    0: avialable for motion\n",
    "    1: wall\n",
    "'''\n",
    "maze = [\n",
    "        [ 0, 0, 1, 0, 0, 1], \n",
    "        [ 0, 0, 0, 0, 0, 0], \n",
    "        [ 0, 0, 1, 0, 1, 0], \n",
    "        [ 1, 0, 0, 0, 1, 0], \n",
    "        [ 0, 0, 0, 0, 1, 0]\n",
    "]\n",
    "\n",
    "start = [0, 0]\n",
    "destination = [len(maze) -1, len(maze[0]) - 1]\n",
    "\n",
    "#              left     down     right   top \n",
    "directions = [[-1, 0], [0, -1], [1, 0], [0, 1]]"
   ]
  },
  {
   "cell_type": "code",
   "execution_count": 59,
   "metadata": {},
   "outputs": [],
   "source": [
    "def searchPathWithBFS(maze, start, destination):\n",
    "    rowNum = len(maze)\n",
    "    colNum = len(maze[0])\n",
    "    \n",
    "    visited = np.zeros((rowNum,colNum), dtype=bool)\n",
    "    visited[start[0],start[1]] = True\n",
    "    \n",
    "    queue = [] \n",
    "    queue.append(start)\n",
    "    \n",
    "    count = 0\n",
    "    reachedEnd = False\n",
    "    leftInLayer = 1\n",
    "    nextLayer = 0\n",
    "    while queue:\n",
    "        s = queue.pop(0)\n",
    "        \n",
    "        if s[0] == destination[0] and s[1] == destination[1]: \n",
    "            reachedEnd = True\n",
    "            break\n",
    "        \n",
    "        for direction in directions:\n",
    "            row = s[0] + direction[0]\n",
    "            col = s[1] + direction[1]\n",
    "            \n",
    "            if row < 0 or col < 0:\n",
    "                continue\n",
    "            if  row >= rowNum or col >= colNum:\n",
    "                continue\n",
    "            if visited[row,col] == True:\n",
    "                continue\n",
    "            if maze[row][col] == 1:\n",
    "                continue\n",
    "                \n",
    "            visited[row,col] = True\n",
    "            queue.append([row,col])\n",
    "            nextLayer = nextLayer + 1\n",
    "        leftInLayer = leftInLayer - 1     \n",
    "        if leftInLayer == 0:\n",
    "            leftInLayer = nextLayer\n",
    "            nextLayer = 0\n",
    "            count = count + 1\n",
    "    if reachedEnd:\n",
    "        return count\n",
    "    return -1"
   ]
  },
  {
   "cell_type": "code",
   "execution_count": 60,
   "metadata": {},
   "outputs": [
    {
     "data": {
      "text/plain": [
       "9"
      ]
     },
     "execution_count": 60,
     "metadata": {},
     "output_type": "execute_result"
    }
   ],
   "source": [
    "searchPathWithBFS(maze, start, destination)"
   ]
  },
  {
   "cell_type": "code",
   "execution_count": null,
   "metadata": {},
   "outputs": [],
   "source": []
  }
 ],
 "metadata": {
  "kernelspec": {
   "display_name": "Python 3",
   "language": "python",
   "name": "python3"
  },
  "language_info": {
   "codemirror_mode": {
    "name": "ipython",
    "version": 3
   },
   "file_extension": ".py",
   "mimetype": "text/x-python",
   "name": "python",
   "nbconvert_exporter": "python",
   "pygments_lexer": "ipython3",
   "version": "3.6.5"
  }
 },
 "nbformat": 4,
 "nbformat_minor": 2
}
