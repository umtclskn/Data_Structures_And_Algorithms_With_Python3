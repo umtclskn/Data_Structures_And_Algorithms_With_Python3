{
 "cells": [
  {
   "cell_type": "code",
   "execution_count": 1,
   "metadata": {},
   "outputs": [
    {
     "name": "stdout",
     "output_type": "stream",
     "text": [
      "False\n",
      "True\n"
     ]
    }
   ],
   "source": [
    "graph =  [[0,1,1,1,1],\n",
    "          [0,1,0,0,0],\n",
    "          [0,0,0,1,0],\n",
    "          [0,1,1,1,0],\n",
    "          [0,0,0,0,0]]\n",
    "\n",
    "\n",
    "def isValidNeighbour(graphItem, direction, row, col, totalRow, totalCol):\n",
    "    if row >= totalRow or col >= totalCol:\n",
    "        return False\n",
    "    if row < 0 or col < 0:\n",
    "        return False\n",
    "    return True\n",
    "\n",
    "def bfs(graph, start, destionation):\n",
    "    \n",
    "    if len(graph) <= 0:\n",
    "        return False\n",
    "    \n",
    "    totalRow = len(graph)\n",
    "    totalCol = len(graph)\n",
    "    \n",
    "    directions =[[-1,0], [0, -1], [1,0], [0,1]]\n",
    "    \n",
    "    queu = []\n",
    "    queu.append(start)\n",
    "    visited = {}\n",
    "    visited[start] = True\n",
    "    \n",
    "    if graph[start[0]][start[1]] == 1:\n",
    "            return False\n",
    "    \n",
    "    if graph[destionation[0]][destionation[1]] == 1:\n",
    "            return False\n",
    "    \n",
    "    while  queu:\n",
    "        queuItem = queu.pop(0)\n",
    "        \n",
    "        if queuItem[0] == destionation[0] and  queuItem[1] == destionation[1]:\n",
    "            return True\n",
    "        \n",
    "        for direction in directions:\n",
    "            row = queuItem[0] + direction[0]\n",
    "            col = queuItem[1] + direction[1]\n",
    "            if isValidNeighbour(queuItem, direction,row, col, totalRow, totalCol) and graph[row][col] == 0:\n",
    "                if (row,col) not in visited:\n",
    "                    queu.append((row,col))\n",
    "                    visited[(row, col)] = True\n",
    "                \n",
    "    return False\n",
    "\n",
    "start = (0, 0)\n",
    "destination = (3, 3)\n",
    "print( bfs(graph, start, destination) )\n",
    "\n",
    "\n",
    "start = (1, 2)\n",
    "destination = (4, 0)\n",
    "print( bfs(graph, start, destination) )"
   ]
  },
  {
   "cell_type": "code",
   "execution_count": null,
   "metadata": {},
   "outputs": [],
   "source": []
  }
 ],
 "metadata": {
  "kernelspec": {
   "display_name": "Python 3",
   "language": "python",
   "name": "python3"
  },
  "language_info": {
   "codemirror_mode": {
    "name": "ipython",
    "version": 3
   },
   "file_extension": ".py",
   "mimetype": "text/x-python",
   "name": "python",
   "nbconvert_exporter": "python",
   "pygments_lexer": "ipython3",
   "version": "3.6.5"
  }
 },
 "nbformat": 4,
 "nbformat_minor": 2
}
