{
 "cells": [
  {
   "cell_type": "code",
   "execution_count": 6,
   "metadata": {},
   "outputs": [
    {
     "name": "stdout",
     "output_type": "stream",
     "text": [
      "[0, 1, 1, 2, 3, 4, 7, 8, 9, 10, 11]\n"
     ]
    }
   ],
   "source": [
    "a = [9,11,10, 3, 2, 7, 1, 8, 0,1,4]\n",
    "\n",
    "for i in range(len(a)):\n",
    "    for j in  range(len(a) - 1 - i):\n",
    "        if a[j] > a[j + 1]:\n",
    "#           arr[j], arr[j+1] = arr[j+1], arr[j]\n",
    "            temp = a[j]\n",
    "            a[j] = a[j + 1]\n",
    "            a[j + 1] = temp\n",
    "\n",
    "print(a)            "
   ]
  },
  {
   "cell_type": "code",
   "execution_count": null,
   "metadata": {},
   "outputs": [],
   "source": []
  }
 ],
 "metadata": {
  "kernelspec": {
   "display_name": "Python 3",
   "language": "python",
   "name": "python3"
  },
  "language_info": {
   "codemirror_mode": {
    "name": "ipython",
    "version": 3
   },
   "file_extension": ".py",
   "mimetype": "text/x-python",
   "name": "python",
   "nbconvert_exporter": "python",
   "pygments_lexer": "ipython3",
   "version": "3.6.5"
  }
 },
 "nbformat": 4,
 "nbformat_minor": 2
}
